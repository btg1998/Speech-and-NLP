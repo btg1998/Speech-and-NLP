{
 "cells": [
  {
   "cell_type": "code",
   "execution_count": 1,
   "metadata": {},
   "outputs": [],
   "source": [
    "# Assignment Task 1\n",
    "# Identifying Generative or Discriminative Models with justification"
   ]
  },
  {
   "cell_type": "code",
   "execution_count": 2,
   "metadata": {},
   "outputs": [
    {
     "data": {
      "text/plain": [
       "\"\\nNeural Networks:\\nThey are Discriminative.\\nNeural Networks take single input and produce single output\\nThey work on Optimizing only 1 single objective function\\nThey don't learn the underlying distribution of the data \\n\""
      ]
     },
     "execution_count": 2,
     "metadata": {},
     "output_type": "execute_result"
    }
   ],
   "source": [
    "'''\n",
    "Neural Networks:\n",
    "They are Discriminative.\n",
    "Neural Networks take single input and produce single output\n",
    "They work on Optimizing only 1 single objective function\n",
    "They don't learn the underlying distribution of the data \n",
    "'''"
   ]
  },
  {
   "cell_type": "code",
   "execution_count": 3,
   "metadata": {},
   "outputs": [
    {
     "data": {
      "text/plain": [
       "'\\nNaive Bayes Classifier:\\nIt is Generative.\\nIt models the full joint distribution P(X,Y)\\n'"
      ]
     },
     "execution_count": 3,
     "metadata": {},
     "output_type": "execute_result"
    }
   ],
   "source": [
    "'''\n",
    "Naive Bayes Classifier:\n",
    "It is Generative.\n",
    "It models the full joint distribution P(X,Y)\n",
    "'''"
   ]
  },
  {
   "cell_type": "code",
   "execution_count": 4,
   "metadata": {},
   "outputs": [
    {
     "data": {
      "text/plain": [
       "'\\nLogistic Regression:\\nIt is Discriminative.\\nIt models only the conditional distribution,\\nP(Y | X) and not the full joint distribution P(X,Y)\\n'"
      ]
     },
     "execution_count": 4,
     "metadata": {},
     "output_type": "execute_result"
    }
   ],
   "source": [
    "'''\n",
    "Logistic Regression:\n",
    "It is Discriminative.\n",
    "It models only the conditional distribution,\n",
    "P(Y | X) and not the full joint distribution P(X,Y)\n",
    "'''"
   ]
  },
  {
   "cell_type": "code",
   "execution_count": 5,
   "metadata": {},
   "outputs": [
    {
     "data": {
      "text/plain": [
       "'\\nGaussian Mixture Model:\\nIt is Generative.\\nWe know that an HMM is a generative Model.\\nEach and every unit of an HMM is a GMM,\\ni.e., GMM can be thought of as a single unit HMM,\\nso, they try to learn the distribution.\\n'"
      ]
     },
     "execution_count": 5,
     "metadata": {},
     "output_type": "execute_result"
    }
   ],
   "source": [
    "'''\n",
    "Gaussian Mixture Model:\n",
    "It is Generative.\n",
    "We know that an HMM is a generative Model.\n",
    "Each and every unit of an HMM is a GMM,\n",
    "i.e., GMM can be thought of as a single unit HMM,\n",
    "so, they try to learn the distribution.\n",
    "'''"
   ]
  },
  {
   "cell_type": "code",
   "execution_count": 6,
   "metadata": {},
   "outputs": [
    {
     "data": {
      "text/plain": [
       "'\\nGANs:\\nThey are Generative.\\nThey try to learn the true distribution \\nSo that they can generate New and Novel Data Points by sampling\\n'"
      ]
     },
     "execution_count": 6,
     "metadata": {},
     "output_type": "execute_result"
    }
   ],
   "source": [
    "'''\n",
    "GANs:\n",
    "They are Generative.\n",
    "They try to learn the true distribution \n",
    "So that they can generate New and Novel Data Points by sampling\n",
    "'''"
   ]
  },
  {
   "cell_type": "code",
   "execution_count": 7,
   "metadata": {},
   "outputs": [
    {
     "data": {
      "text/plain": [
       "'\\nLDA(Latent Dirichlet Allocation):\\nIt is Generative. \\nIt is used for more than 1 task such as \\nClassification and Dimensionality Reduction\\nThis is possible only if it learns the underlying distribution\\n'"
      ]
     },
     "execution_count": 7,
     "metadata": {},
     "output_type": "execute_result"
    }
   ],
   "source": [
    "'''\n",
    "LDA(Latent Dirichlet Allocation):\n",
    "It is Generative. \n",
    "It is used for more than 1 task such as \n",
    "Classification and Dimensionality Reduction\n",
    "This is possible only if it learns the underlying distribution\n",
    "'''"
   ]
  },
  {
   "cell_type": "code",
   "execution_count": 8,
   "metadata": {},
   "outputs": [
    {
     "data": {
      "text/plain": [
       "'\\nSVM:\\nIt is Discriminative.\\nThey try to learn the boundary for each class instead of the distribution\\nThey try to optimize a single objective function such as loss function for classification\\n'"
      ]
     },
     "execution_count": 8,
     "metadata": {},
     "output_type": "execute_result"
    }
   ],
   "source": [
    "'''\n",
    "SVM:\n",
    "It is Discriminative.\n",
    "They try to learn the boundary for each class instead of the distribution\n",
    "They try to optimize a single objective function such as loss function for classification\n",
    "'''"
   ]
  },
  {
   "cell_type": "code",
   "execution_count": 9,
   "metadata": {},
   "outputs": [
    {
     "data": {
      "text/plain": [
       "'\\nDecision Tree:\\nIt is Discriminative.\\nThey try to learn the boundary for each class instead of the distribution\\nThey try to optimize a single objective function such as loss function for classification\\n'"
      ]
     },
     "execution_count": 9,
     "metadata": {},
     "output_type": "execute_result"
    }
   ],
   "source": [
    "'''\n",
    "Decision Tree:\n",
    "It is Discriminative.\n",
    "They try to learn the boundary for each class instead of the distribution\n",
    "They try to optimize a single objective function such as loss function for classification\n",
    "'''"
   ]
  },
  {
   "cell_type": "code",
   "execution_count": 10,
   "metadata": {},
   "outputs": [
    {
     "data": {
      "text/plain": [
       "'\\nIn General,\\nGenerative Models have a single Input and Multiple Outputs\\nwhich can be used for other purposes such as classification\\nand Dimensionality Reduction, etc.\\nWhile,\\nDiscriminative Models have a single input and single output\\nand work on specific problems like classification.\\n'"
      ]
     },
     "execution_count": 10,
     "metadata": {},
     "output_type": "execute_result"
    }
   ],
   "source": [
    "'''\n",
    "In General,\n",
    "Generative Models have a single Input and Multiple Outputs\n",
    "which can be used for other purposes such as classification\n",
    "and Dimensionality Reduction, etc.\n",
    "While,\n",
    "Discriminative Models have a single input and single output\n",
    "and work on specific problems like classification.\n",
    "'''"
   ]
  },
  {
   "cell_type": "markdown",
   "metadata": {},
   "source": [
    "# Sequence Labeling in python"
   ]
  },
  {
   "cell_type": "markdown",
   "metadata": {},
   "source": [
    "### Initialise the transition, start and emission matrix . The states stand for high and low.  The HMM model is given in the assignment itself. "
   ]
  },
  {
   "cell_type": "code",
   "execution_count": 11,
   "metadata": {},
   "outputs": [],
   "source": [
    "import numpy as np\n",
    "\n",
    "P= np.array([[0.6, 0.4],[0.5,0.5]])\n",
    "\n",
    "S= np.array([0.5, 0.5])\n",
    "\n",
    "O= np.array([[0.3,0.2,0.2,0.3],[0.2,0.3,0.3,0.2]])\n",
    "\n",
    "state={}\n",
    "state[0]='L'\n",
    "state[1]='H'\n",
    "\n",
    "DNA={}\n",
    "DNA['A']=0\n",
    "DNA['C']=1\n",
    "DNA['G']=2\n",
    "DNA['T']=3\n"
   ]
  },
  {
   "cell_type": "markdown",
   "metadata": {},
   "source": [
    "### A stupid attempt to show you why the exhaustive search is a bad, bad option for HMM modelling. "
   ]
  },
  {
   "cell_type": "code",
   "execution_count": 12,
   "metadata": {},
   "outputs": [],
   "source": [
    "from itertools import product\n",
    "\n",
    "import time \n",
    "def exhaustive_search(sequence):\n",
    "    \n",
    "    M= len(sequence)\n",
    "    state_len= len(S)\n",
    "    \n",
    "    # track the best sequence and its score\n",
    "    best=(None,float('-inf'))\n",
    "    \n",
    "    # basically loop will run for |states|^M \n",
    "    for ss in product(range(state_len),repeat=M):\n",
    "        \n",
    "        score= S[ss[0]]*O[ss[0],DNA[sequence[0]]]\n",
    "        \n",
    "        for i in range(1,M):\n",
    "            score*= P[ss[i-1],ss[i]]*O[ss[i],DNA[sequence[i]]]\n",
    "            \n",
    "        \n",
    "        #print(','.join([state[k] for k in ss]),score)\n",
    "    \n",
    "        if score > best[1]:\n",
    "            best= (ss,score)\n",
    "    \n",
    "    return best\n"
   ]
  },
  {
   "cell_type": "code",
   "execution_count": 13,
   "metadata": {},
   "outputs": [
    {
     "name": "stdout",
     "output_type": "stream",
     "text": [
      "For the sequence GGC of length 3 time taken was 0.0s\n",
      "The sequence H,H,H gave the best score of 0.003375\n",
      "\n",
      "\n",
      "For the sequence GGCAAGATCAT of length 11 time taken was 0.018s\n",
      "The sequence H,H,H,L,L,L,L,L,L,L,L gave the best score of 1.3774950719999997e-09\n",
      "\n",
      "\n",
      "For the sequence GAGAGGAGAGAGAGAGAGA of length 19 time taken was 4.548s\n",
      "The sequence H,L,L,L,H,H,L,L,L,L,L,L,L,L,L,L,L,L,L gave the best score of 1.3326697514029538e-16\n",
      "\n",
      "\n"
     ]
    }
   ],
   "source": [
    "sequences=['GGC','GGCAAGATCAT','GAGAGGAGAGAGAGAGAGA']\n",
    "\n",
    "import time\n",
    "for sequence in sequences:\n",
    "    \n",
    "    t=time.time()\n",
    "    best=exhaustive_search(sequence)\n",
    "    t2=time.time()-t\n",
    "    \n",
    "    print('For the sequence '+ sequence+ ' of length '+ str(len(sequence))+' time taken was '+ str(round(t2,3))+'s' )\n",
    "    print('The sequence '+ ','.join([state[k] for k in best[0]])+ ' gave the best score of '+ str(best[1]))\n",
    "    print('\\n')"
   ]
  },
  {
   "cell_type": "code",
   "execution_count": 14,
   "metadata": {},
   "outputs": [
    {
     "name": "stdout",
     "output_type": "stream",
     "text": [
      "['1', '1', '1', '0', '0', '1', '0', '0', '1', '0', '0']\n",
      "9.565937999999997e-10\n"
     ]
    }
   ],
   "source": [
    "# This is a stupid Greedy Attempt to recover the most possible sequence given the actual sequence and the HMM Model\n",
    "\n",
    "seq='GGCAAGATCAT'\n",
    "ans=[]\n",
    "score=1\n",
    "for i in range(len(seq)):\n",
    "    if i==0:\n",
    "        if S[0]*O[0][DNA[seq[i]]] > S[1]*O[1][DNA[seq[i]]]:\n",
    "            score=score*S[0]*O[0][DNA[seq[i]]]\n",
    "            ans.append(str(0))\n",
    "        else:\n",
    "            score=score*S[1]*O[1][DNA[seq[i]]]\n",
    "            ans.append(str(1))\n",
    "    else:\n",
    "        if (P[int(ans[-1])][0]*O[0][DNA[seq[i]]])>(P[int(ans[-1])][1]*O[1][DNA[seq[i]]]):\n",
    "            score=score*P[int(ans[-1])][0]*O[0][DNA[seq[i]]]\n",
    "            ans.append(str(0))\n",
    "        else:\n",
    "            score=score*P[int(ans[-1])][1]*O[1][DNA[seq[i]]]\n",
    "            ans.append(str(1))\n",
    "print(ans)\n",
    "print(score)\n",
    "\n",
    "# This actually shows why using Greeedy startegy to recover the most possible sequence is wrong."
   ]
  },
  {
   "cell_type": "markdown",
   "metadata": {},
   "source": [
    "# Dataset for this assignment: Brown corpus tagged with the Universal Tagset."
   ]
  },
  {
   "cell_type": "markdown",
   "metadata": {},
   "source": [
    "## This will be your training set. The remaining 10 sentences will be used as your test data."
   ]
  },
  {
   "cell_type": "code",
   "execution_count": 15,
   "metadata": {},
   "outputs": [
    {
     "name": "stdout",
     "output_type": "stream",
     "text": [
      "56043\n",
      "59945\n",
      "12\n",
      "12\n",
      "168\n",
      "10\n"
     ]
    }
   ],
   "source": [
    "from nltk.corpus import treebank,brown\n",
    "\n",
    "# Using the last 10 sentences as Test Set\n",
    "corpus = brown.tagged_sents(tagset='universal')[:-10] \n",
    "\n",
    "# Dictionaries containing frequencies for building Probability Values\n",
    "tag_dict={}\n",
    "word_dict={}\n",
    "emi_dict={}\n",
    "\n",
    "# Building the Tag, Word and Emission Dictionaries\n",
    "for sent in corpus:\n",
    "    for elem in sent:\n",
    "        w = elem[0]\n",
    "        tag= elem[1]\n",
    "\n",
    "        if w not in word_dict:\n",
    "            word_dict[w]=0\n",
    "        \n",
    "        if (tag,w) not in emi_dict:\n",
    "            emi_dict[(tag,w)]=0\n",
    "        \n",
    "        if tag not in tag_dict:\n",
    "            tag_dict[tag]=0\n",
    "        \n",
    "        word_dict[w]+=1\n",
    "        emi_dict[(tag,w)]+=1\n",
    "        tag_dict[tag]+=1\n",
    "\n",
    "# Building the Transition and Start Dictionaries\n",
    "trans_dict={}\n",
    "start_dict={}\n",
    "for sent in corpus:\n",
    "    temp = [(None,'<s>')] + sent + [(None,'</s>')] \n",
    "    for i in range(1,len(temp)):\n",
    "        \n",
    "        if i==1:\n",
    "            if temp[i][1] not in start_dict:\n",
    "                start_dict[temp[i][1]]=0\n",
    "            start_dict[temp[i][1]]+=1\n",
    "            \n",
    "        if (temp[i-1][1],temp[i][1]) not in trans_dict:\n",
    "            trans_dict[(temp[i-1][1],temp[i][1])]=0\n",
    "        \n",
    "        trans_dict[(temp[i-1][1],temp[i][1])]+=1\n",
    "\n",
    "        \n",
    "# Just checking if everything is in order\n",
    "print(len(word_dict))\n",
    "print(len(emi_dict))\n",
    "print(len(tag_dict))\n",
    "print(len(start_dict))\n",
    "print(len(trans_dict))\n",
    "\n",
    "# Test Data\n",
    "test_data= brown.tagged_sents(tagset='universal')[-10:]\n",
    "\n",
    "print(len(test_data))"
   ]
  },
  {
   "cell_type": "code",
   "execution_count": 16,
   "metadata": {},
   "outputs": [],
   "source": [
    "# Adding the start and ending tags to the tag dictionary to help with building of transition probabilities \n",
    "tag_dict['<s>']=len(corpus)\n",
    "tag_dict['</s>']=len(corpus)\n",
    "# Both these tags occur ince in each sentence in the corpus"
   ]
  },
  {
   "cell_type": "code",
   "execution_count": 17,
   "metadata": {},
   "outputs": [],
   "source": [
    "# Building the Probabilities from the Frequencies with Additive / Laplacian Smoothing implemented for\n",
    "# Emission and Transition Probabilities with k = 0.001\n",
    "\n",
    "k=0.001\n",
    "emi_prob=emi_dict.copy()\n",
    "\n",
    "for i in emi_prob.keys():\n",
    "    emi_prob[i]=(float(emi_prob[i]+k)/(tag_dict[i[0]]+k*len(emi_prob)))\n",
    "\n",
    "trans_prob=trans_dict.copy()\n",
    "\n",
    "for i in trans_prob.keys():\n",
    "    trans_prob[i]=(float(trans_prob[i]+k)/(tag_dict[i[0]]+k*len(tag_dict)))\n",
    "\n",
    "start_prob=start_dict.copy()\n",
    "\n",
    "for i in start_prob.keys():\n",
    "    start_prob[i]=(float(start_prob[i])/(len(corpus)))"
   ]
  },
  {
   "cell_type": "code",
   "execution_count": 18,
   "metadata": {},
   "outputs": [],
   "source": [
    "# Test Sentences\n",
    "test_sen = brown.tagged_sents(tagset='universal')[-10:]"
   ]
  },
  {
   "cell_type": "code",
   "execution_count": 19,
   "metadata": {},
   "outputs": [],
   "source": [
    "# Seperating the words from the true Tags in the Test Set\n",
    "te = []\n",
    "for i in test_sen:\n",
    "    temp = []\n",
    "    for j in i:\n",
    "        temp.append(j[0])\n",
    "    te.append(temp)\n"
   ]
  },
  {
   "cell_type": "code",
   "execution_count": 20,
   "metadata": {},
   "outputs": [],
   "source": [
    "# Implementation of the Viterbi Algorithm on the Probabilities using Dynamic Programming Matrix\n",
    "# Used the HMM model(i.e. Probabilities), to find the best sequence of POS-TAGs on the test data\n",
    "\n",
    "tag_list=list(tag_dict.keys())\n",
    "tag_list.remove('<s>')\n",
    "tag_list.remove('</s>')\n",
    "# To store the tags got for the test data from the HMM Model\n",
    "ans=[]\n",
    "for i in te:\n",
    "    rows = len(tag_list)\n",
    "    cols = len(i)\n",
    "    dp = [[None] * cols for i in range(rows)]\n",
    "    # Storing a tuple in each cell (index of the previous cell, probability of the current cell)\n",
    "    for col_index, curr_word in enumerate(i):\n",
    "        for row_index, curr_tag in enumerate(tag_list):\n",
    "            # Computing the probabilities for the first column\n",
    "            if col_index == 0:\n",
    "                init_prob = start_prob[curr_tag]\n",
    "                try:\n",
    "                    dp[row_index][col_index] = (-1, emi_prob[(curr_tag,curr_word)] * init_prob )\n",
    "                except KeyError:\n",
    "                    dp[row_index][col_index] = (-1, (float(k)/(tag_dict[curr_tag]+k*len(emi_prob))) * init_prob )\n",
    "            # Computing the probabilities of the other columns\n",
    "            else:\n",
    "                best_prob_tuple = (-1, 0)\n",
    "                for prev_row_index, prev_tag in enumerate(tag_list):\n",
    "                    prev_prob = dp[prev_row_index][col_index - 1][1]\n",
    "                    f1=0\n",
    "                    try:\n",
    "                        t=emi_prob[(curr_tag,curr_word)]\n",
    "                    except KeyError:\n",
    "                        f1=1\n",
    "                    f2=0\n",
    "                    try:\n",
    "                        t=trans_prob[(prev_tag,curr_tag)]\n",
    "                    except KeyError:\n",
    "                        f2=1\n",
    "                    if f1==0 and f2==0:\n",
    "                        curr_prob = prev_prob * emi_prob[(curr_tag,curr_word)] * trans_prob[(prev_tag,curr_tag)]\n",
    "                    if f1==1 and f2==0:\n",
    "                        curr_prob = prev_prob * (float(k)/(tag_dict[curr_tag]+k*len(emi_prob))) * trans_prob[(prev_tag,curr_tag)]\n",
    "                    if f1==1 and f2==1:\n",
    "                        curr_prob = prev_prob * (float(k)/(tag_dict[curr_tag]+k*len(emi_prob))) * (float(k)/(tag_dict[prev_tag]+k*len(tag_dict)))\n",
    "                    if f1==0 and f2==1:\n",
    "                        curr_prob = prev_prob * emi_prob[(curr_tag,curr_word)] * (float(k)/(tag_dict[prev_tag]+k*len(tag_dict)))\n",
    "                    if curr_prob > best_prob_tuple[1]:\n",
    "                        best_prob_tuple = (prev_row_index, curr_prob)\n",
    "                dp[row_index][col_index] = best_prob_tuple\n",
    "    # Backtracking to fetch the best path\n",
    "    # Finding the cell with the max probability from the last column\n",
    "    (max_index, max_prob) = (-1, 0)\n",
    "    for row in range(rows):\n",
    "        curr_prob = dp[row][cols - 1][1]\n",
    "        if curr_prob > max_prob:\n",
    "            (max_index, max_prob) = (row, curr_prob)\n",
    "    output_tag_list = list()  # List to store the output tags\n",
    "    # Adding the best path to output list\n",
    "    for col in range(cols - 1, 0, -1):\n",
    "        output_tag_list.insert(0, tag_list[max_index])\n",
    "        max_index = dp[max_index][col][0]\n",
    "    output_tag_list.insert(0, tag_list[max_index])\n",
    "    ans.append(output_tag_list)\n"
   ]
  },
  {
   "cell_type": "code",
   "execution_count": 21,
   "metadata": {},
   "outputs": [],
   "source": [
    "# Accuracy of the HMM Model with the Viterbi Algorithm\n",
    "\n",
    "labels=['DET',\n",
    " 'NOUN',\n",
    " 'ADJ',\n",
    " 'VERB',\n",
    " 'ADP',\n",
    " '.',\n",
    " 'ADV',\n",
    " 'CONJ',\n",
    " 'PRT',\n",
    " 'PRON',\n",
    " 'NUM',\n",
    " 'X']\n",
    "\n",
    "sorted_labels = sorted(\n",
    "    labels, \n",
    "    key=lambda name: (name[1:], name[0]))\n",
    "\n",
    "# The True Labels for the Test Set Data\n",
    "a=[]\n",
    "for i in test_data:\n",
    "    t=[]\n",
    "    for j in i:\n",
    "        t.append(j[1])\n",
    "    a.append(t)"
   ]
  },
  {
   "cell_type": "code",
   "execution_count": 22,
   "metadata": {},
   "outputs": [
    {
     "name": "stderr",
     "output_type": "stream",
     "text": [
      "/home/bhargav/.local/lib/python3.5/site-packages/sklearn/metrics/classification.py:1135: UndefinedMetricWarning: F-score is ill-defined and being set to 0.0 in labels with no predicted samples.\n",
      "  'precision', 'predicted', average, warn_for)\n",
      "/home/bhargav/.local/lib/python3.5/site-packages/sklearn/metrics/classification.py:1137: UndefinedMetricWarning: F-score is ill-defined and being set to 0.0 in labels with no true samples.\n",
      "  'recall', 'true', average, warn_for)\n"
     ]
    },
    {
     "data": {
      "text/plain": [
       "0.9386653882119602"
      ]
     },
     "execution_count": 22,
     "metadata": {},
     "output_type": "execute_result"
    }
   ],
   "source": [
    "# To check Accuracy\n",
    "from sklearn_crfsuite import scorers\n",
    "from sklearn_crfsuite import metrics\n",
    "\n",
    "# Accuracy as the percentage of the correct tags\n",
    "metrics.flat_f1_score(a, ans, average='weighted', labels=labels)"
   ]
  },
  {
   "cell_type": "code",
   "execution_count": 23,
   "metadata": {},
   "outputs": [
    {
     "name": "stdout",
     "output_type": "stream",
     "text": [
      "             precision    recall  f1-score   support\n",
      "\n",
      "          .      0.943     1.000     0.971        33\n",
      "          X      0.250     0.667     0.364         3\n",
      "        ADJ      0.938     0.833     0.882        18\n",
      "        ADP      1.000     0.963     0.981        27\n",
      "        ADV      0.800     0.889     0.842         9\n",
      "       VERB      0.941     0.914     0.928        35\n",
      "        DET      1.000     1.000     1.000        33\n",
      "       CONJ      0.875     1.000     0.933         7\n",
      "       NOUN      0.978     0.863     0.917        51\n",
      "       PRON      1.000     1.000     1.000        12\n",
      "        PRT      0.917     1.000     0.957        11\n",
      "        NUM      0.000     0.000     0.000         0\n",
      "\n",
      "avg / total      0.950     0.933     0.939       239\n",
      "\n"
     ]
    },
    {
     "name": "stderr",
     "output_type": "stream",
     "text": [
      "/home/bhargav/.local/lib/python3.5/site-packages/sklearn/metrics/classification.py:1135: UndefinedMetricWarning: Precision and F-score are ill-defined and being set to 0.0 in labels with no predicted samples.\n",
      "  'precision', 'predicted', average, warn_for)\n",
      "/home/bhargav/.local/lib/python3.5/site-packages/sklearn/metrics/classification.py:1137: UndefinedMetricWarning: Recall and F-score are ill-defined and being set to 0.0 in labels with no true samples.\n",
      "  'recall', 'true', average, warn_for)\n"
     ]
    }
   ],
   "source": [
    "# Confusion Matrix for the Model\n",
    "print(metrics.flat_classification_report(\n",
    "    a, ans, labels=sorted_labels, digits=3))"
   ]
  },
  {
   "cell_type": "markdown",
   "metadata": {},
   "source": [
    "## Module to implement CRF. "
   ]
  },
  {
   "cell_type": "code",
   "execution_count": 24,
   "metadata": {},
   "outputs": [],
   "source": [
    "# pip3 install sklearn-crfsuite # install this please\n",
    "\n",
    "train_sents= corpus\n",
    "\n",
    "# Function to return the Previous word\n",
    "def pword(i,sent):\n",
    "    if i == 0:\n",
    "        return ''\n",
    "    else:\n",
    "        return sent[i-1][0]\n",
    "\n",
    "    \n",
    "# Fucntion to return the Next word\n",
    "def nword(i,lsent,sent):\n",
    "    if i==lsent - 1:\n",
    "        return ''\n",
    "    else:\n",
    "        return sent[i+1][0]\n",
    "\n",
    "# Function to return the Previous Tag\n",
    "def ptag(i,sent):\n",
    "    if i == 0:\n",
    "        return ''\n",
    "    else:\n",
    "        return sent[i-1][1]\n",
    "\n",
    "# Fucntion to return the Next Tag\n",
    "def ntag(i,lsent,sent):\n",
    "    if i==lsent - 1:\n",
    "        return ''\n",
    "    else:\n",
    "        return sent[i+1][1]\n",
    "    \n",
    "def word2features(sent,i):\n",
    "    word = sent[i][0]\n",
    "    # The Cooked-Up Features\n",
    "    features ={\n",
    "    'bias': 1.0,\n",
    "    'word': word,\n",
    "    #'length': len(word), # This feature actually decreases the accuracy of our POS Tagger when introduced\n",
    "    'is_first': i == 0,\n",
    "    'is_last': i == len(sent) - 1,\n",
    "    'is_capitalized': sent[i][0].upper() == sent[i][0],\n",
    "    'is_all_caps': word.upper() == word,\n",
    "    #'is_all_lower': word.lower() == word, # This feature actually decreases the accuracy of our POS Tagger when introduced\n",
    "    'prefix-1': word[0],\n",
    "    'prefix-2': word[:2],\n",
    "    'prefix-3': word[:3],\n",
    "    'suffix-1': word[-1],\n",
    "    'suffix-2': word[-2:],\n",
    "    'suffix-3': word[-3:],\n",
    "    'prev_word': pword(i,sent),\n",
    "    'next_word': nword(i,len(sent),sent),\n",
    "    'prev_tag': ptag(i,sent),\n",
    "    'next_tag': ntag(i,len(sent),sent),\n",
    "    'has_hyphen': '-' in word,\n",
    "    'is_numeric': word.isdigit(),\n",
    "    'capitals_inside': word[1:].lower() != word[1:]\n",
    "    }\n",
    "                \n",
    "    return features\n",
    "\n",
    "def sent2features(sent):\n",
    "    return [word2features(sent,i) for i in range(len(sent))]\n",
    "\n",
    "def sent2labels(sent):\n",
    "    return [label for i,label in sent]\n",
    "\n"
   ]
  },
  {
   "cell_type": "code",
   "execution_count": 25,
   "metadata": {},
   "outputs": [],
   "source": [
    "X_train=(sent2features(s) for s in train_sents)\n",
    "y_train=(sent2labels(s) for s in train_sents)\n",
    "\n",
    "X_test=(sent2features(s) for s in test_data)\n",
    "y_test=(sent2labels(s) for s in test_data)\n",
    "\n"
   ]
  },
  {
   "cell_type": "code",
   "execution_count": 26,
   "metadata": {},
   "outputs": [
    {
     "data": {
      "text/plain": [
       "CRF(algorithm='lbfgs', all_possible_states=None,\n",
       "  all_possible_transitions=True, averaging=None, c=None, c1=0.1, c2=0.1,\n",
       "  calibration_candidates=None, calibration_eta=None,\n",
       "  calibration_max_trials=None, calibration_rate=None,\n",
       "  calibration_samples=None, delta=None, epsilon=None, error_sensitive=None,\n",
       "  gamma=None, keep_tempfiles=None, linesearch=None, max_iterations=100,\n",
       "  max_linesearch=None, min_freq=None, model_filename=None,\n",
       "  num_memories=None, pa_type=None, period=None, trainer_cls=None,\n",
       "  variance=None, verbose=False)"
      ]
     },
     "execution_count": 26,
     "metadata": {},
     "output_type": "execute_result"
    }
   ],
   "source": [
    "# Header File for CRF \n",
    "\n",
    "import sklearn_crfsuite\n",
    "\n",
    "# CRF Model Declaration with parameters \n",
    "\n",
    "crf = sklearn_crfsuite.CRF(\n",
    "    algorithm='lbfgs', \n",
    "    c1=0.1, \n",
    "    c2=0.1, \n",
    "    max_iterations=100, \n",
    "    all_possible_transitions=True\n",
    ")\n",
    "crf.fit(X_train, y_train)"
   ]
  },
  {
   "cell_type": "code",
   "execution_count": 27,
   "metadata": {},
   "outputs": [
    {
     "name": "stderr",
     "output_type": "stream",
     "text": [
      "/home/bhargav/.local/lib/python3.5/site-packages/sklearn/metrics/classification.py:1135: UndefinedMetricWarning: F-score is ill-defined and being set to 0.0 in labels with no predicted samples.\n",
      "  'precision', 'predicted', average, warn_for)\n",
      "/home/bhargav/.local/lib/python3.5/site-packages/sklearn/metrics/classification.py:1137: UndefinedMetricWarning: F-score is ill-defined and being set to 0.0 in labels with no true samples.\n",
      "  'recall', 'true', average, warn_for)\n"
     ]
    },
    {
     "data": {
      "text/plain": [
       "0.9831842310598059"
      ]
     },
     "execution_count": 27,
     "metadata": {},
     "output_type": "execute_result"
    }
   ],
   "source": [
    "# Accuracy as the percentage of the correct tags \n",
    "\n",
    "y_pred = crf.predict(X_test)\n",
    "labels=list(crf.classes_)\n",
    "\n",
    "metrics.flat_f1_score(y_test, y_pred, \n",
    "                      average='weighted', labels=labels)"
   ]
  },
  {
   "cell_type": "code",
   "execution_count": 28,
   "metadata": {},
   "outputs": [
    {
     "name": "stdout",
     "output_type": "stream",
     "text": [
      "             precision    recall  f1-score   support\n",
      "\n",
      "          .      1.000     1.000     1.000        33\n",
      "          X      1.000     1.000     1.000         3\n",
      "        ADJ      1.000     0.944     0.971        18\n",
      "        ADP      0.963     0.963     0.963        27\n",
      "        ADV      0.900     1.000     0.947         9\n",
      "       VERB      1.000     1.000     1.000        35\n",
      "        DET      0.971     1.000     0.985        33\n",
      "       CONJ      1.000     0.857     0.923         7\n",
      "       NOUN      1.000     1.000     1.000        51\n",
      "       PRON      1.000     0.917     0.957        12\n",
      "        PRT      0.917     1.000     0.957        11\n",
      "        NUM      0.000     0.000     0.000         0\n",
      "\n",
      "avg / total      0.984     0.983     0.983       239\n",
      "\n"
     ]
    },
    {
     "name": "stderr",
     "output_type": "stream",
     "text": [
      "/home/bhargav/.local/lib/python3.5/site-packages/sklearn/metrics/classification.py:1135: UndefinedMetricWarning: Precision and F-score are ill-defined and being set to 0.0 in labels with no predicted samples.\n",
      "  'precision', 'predicted', average, warn_for)\n",
      "/home/bhargav/.local/lib/python3.5/site-packages/sklearn/metrics/classification.py:1137: UndefinedMetricWarning: Recall and F-score are ill-defined and being set to 0.0 in labels with no true samples.\n",
      "  'recall', 'true', average, warn_for)\n"
     ]
    }
   ],
   "source": [
    "# Confusion Matrix for the Model\n",
    "sorted_labels = sorted(\n",
    "    labels, \n",
    "    key=lambda name: (name[1:], name[0])\n",
    ")\n",
    "print(metrics.flat_classification_report(\n",
    "    a, y_pred, labels=sorted_labels, digits=3\n",
    "))"
   ]
  },
  {
   "cell_type": "code",
   "execution_count": 29,
   "metadata": {},
   "outputs": [],
   "source": [
    "# Justification for considering features of CRF\n",
    "import matplotlib.pyplot as plt\n",
    "import pandas as pd\n"
   ]
  },
  {
   "cell_type": "code",
   "execution_count": 30,
   "metadata": {},
   "outputs": [],
   "source": [
    "# While plotting Histogram of frequencies of features with respect to Tags, if we get Skewed Distributions, \n",
    "# It implies that the particular feature is a very good discriminator with respect to tags\n",
    "# The more skewed the distribution is, the better it is."
   ]
  },
  {
   "cell_type": "code",
   "execution_count": 31,
   "metadata": {},
   "outputs": [
    {
     "data": {
      "text/plain": [
       "<matplotlib.axes._subplots.AxesSubplot at 0x7faa8fb96080>"
      ]
     },
     "execution_count": 31,
     "metadata": {},
     "output_type": "execute_result"
    },
    {
     "data": {
      "image/png": "[encoded data removed]",
      "text/plain": [
       "<Figure size 432x288 with 1 Axes>"
      ]
     },
     "metadata": {},
     "output_type": "display_data"
    }
   ],
   "source": [
    "# Justification for has-hyphen parameter\n",
    "\n",
    "l=[]\n",
    "for sent in corpus:\n",
    "    for i in sent:\n",
    "        if '-' in i[0]:\n",
    "            l.append(i[1])\n",
    "            \n",
    "df=pd.DataFrame({'col':l})\n",
    "fig, ax = plt.subplots()\n",
    "df['col'].value_counts().plot(ax=ax, kind='bar')"
   ]
  },
  {
   "cell_type": "code",
   "execution_count": 32,
   "metadata": {},
   "outputs": [],
   "source": [
    "# A Skewed Distribution favouring ADJ, NOUN, . Tags"
   ]
  },
  {
   "cell_type": "code",
   "execution_count": 33,
   "metadata": {},
   "outputs": [
    {
     "data": {
      "text/plain": [
       "<matplotlib.axes._subplots.AxesSubplot at 0x7faa8fc27748>"
      ]
     },
     "execution_count": 33,
     "metadata": {},
     "output_type": "execute_result"
    },
    {
     "data": {
      "image/png": "[encoded data removed]",
      "text/plain": [
       "<Figure size 432x288 with 1 Axes>"
      ]
     },
     "metadata": {},
     "output_type": "display_data"
    }
   ],
   "source": [
    "# Justification for is_numeric parameter\n",
    "\n",
    "l=[]\n",
    "for sent in corpus:\n",
    "    for i in sent:\n",
    "        if i[0].isdigit():\n",
    "            l.append(i[1])\n",
    "            \n",
    "df=pd.DataFrame({'col':l})\n",
    "fig, ax = plt.subplots()\n",
    "df['col'].value_counts().plot(ax=ax, kind='bar')"
   ]
  },
  {
   "cell_type": "code",
   "execution_count": 34,
   "metadata": {},
   "outputs": [],
   "source": [
    "# A Skewed Distribution favouring the NUM Tag"
   ]
  },
  {
   "cell_type": "code",
   "execution_count": 35,
   "metadata": {},
   "outputs": [
    {
     "data": {
      "text/plain": [
       "<matplotlib.axes._subplots.AxesSubplot at 0x7faa8faab630>"
      ]
     },
     "execution_count": 35,
     "metadata": {},
     "output_type": "execute_result"
    },
    {
     "data": {
      "image/png": "[encoded data removed]",
      "text/plain": [
       "<Figure size 432x288 with 1 Axes>"
      ]
     },
     "metadata": {},
     "output_type": "display_data"
    }
   ],
   "source": [
    "# Justification for capitals_inside parameter\n",
    "\n",
    "l=[]\n",
    "for sent in corpus:\n",
    "    for i in sent:\n",
    "        if i[0][1:].lower() != i[0][1:]:\n",
    "            l.append(i[1])\n",
    "            \n",
    "df=pd.DataFrame({'col':l})\n",
    "fig, ax = plt.subplots()\n",
    "df['col'].value_counts().plot(ax=ax, kind='bar')"
   ]
  },
  {
   "cell_type": "code",
   "execution_count": 36,
   "metadata": {},
   "outputs": [],
   "source": [
    "# A Skewed Distribution favouring the NOUN Tag"
   ]
  },
  {
   "cell_type": "code",
   "execution_count": 37,
   "metadata": {},
   "outputs": [
    {
     "data": {
      "text/plain": [
       "<matplotlib.axes._subplots.AxesSubplot at 0x7faa8faaba20>"
      ]
     },
     "execution_count": 37,
     "metadata": {},
     "output_type": "execute_result"
    },
    {
     "data": {
      "image/png": "[encoded data removed]",
      "text/plain": [
       "<Figure size 432x288 with 1 Axes>"
      ]
     },
     "metadata": {},
     "output_type": "display_data"
    }
   ],
   "source": [
    "# Justification for is_capitalized / is_all_caps parameter\n",
    "\n",
    "l=[]\n",
    "for sent in corpus:\n",
    "    for i in sent:\n",
    "        if i[0].upper() == i[0]:\n",
    "            l.append(i[1])\n",
    "            \n",
    "df=pd.DataFrame({'col':l})\n",
    "fig, ax = plt.subplots()\n",
    "df['col'].value_counts().plot(ax=ax, kind='bar')"
   ]
  },
  {
   "cell_type": "code",
   "execution_count": 38,
   "metadata": {},
   "outputs": [],
   "source": [
    "# A skewed distribution favouring the . Tag"
   ]
  },
  {
   "cell_type": "code",
   "execution_count": 39,
   "metadata": {},
   "outputs": [
    {
     "data": {
      "text/plain": [
       "<matplotlib.axes._subplots.AxesSubplot at 0x7faa8edbe4e0>"
      ]
     },
     "execution_count": 39,
     "metadata": {},
     "output_type": "execute_result"
    },
    {
     "data": {
      "image/png": "[encoded data removed]",
      "text/plain": [
       "<Figure size 432x288 with 1 Axes>"
      ]
     },
     "metadata": {},
     "output_type": "display_data"
    }
   ],
   "source": [
    "# Justification for is_last parameter\n",
    "\n",
    "l=[]\n",
    "for sent in corpus:\n",
    "    l.append(sent[-1][1])\n",
    "            \n",
    "df=pd.DataFrame({'col':l})\n",
    "fig, ax = plt.subplots()\n",
    "df['col'].value_counts().plot(ax=ax, kind='bar')"
   ]
  },
  {
   "cell_type": "code",
   "execution_count": 40,
   "metadata": {},
   "outputs": [],
   "source": [
    "# A skewed distribution favouring the . Tag"
   ]
  },
  {
   "cell_type": "code",
   "execution_count": 41,
   "metadata": {},
   "outputs": [
    {
     "data": {
      "text/plain": [
       "<matplotlib.axes._subplots.AxesSubplot at 0x7faa8ee84240>"
      ]
     },
     "execution_count": 41,
     "metadata": {},
     "output_type": "execute_result"
    },
    {
     "data": {
      "image/png": "[encoded data removed]",
      "text/plain": [
       "<Figure size 432x288 with 1 Axes>"
      ]
     },
     "metadata": {},
     "output_type": "display_data"
    }
   ],
   "source": [
    "# Justification for is_first parameter\n",
    "\n",
    "l=[]\n",
    "for sent in corpus:\n",
    "    l.append(sent[0][1])\n",
    "            \n",
    "df=pd.DataFrame({'col':l})\n",
    "fig, ax = plt.subplots()\n",
    "df['col'].value_counts().plot(ax=ax, kind='bar')"
   ]
  },
  {
   "cell_type": "code",
   "execution_count": 42,
   "metadata": {},
   "outputs": [],
   "source": [
    "# This distribution isn't as skewed as the ones we saw above, but still the inclusion of this feature leads \n",
    "# to increase in accuracy slightly, this might be because this feature in tandem with other features is a\n",
    "# better discriminator rather than the features separately"
   ]
  },
  {
   "cell_type": "code",
   "execution_count": 43,
   "metadata": {},
   "outputs": [],
   "source": [
    "# Justification for the inclusion of Previous and Next Word :\n",
    "# Most obvious choices for features are: the word itself, the word before and the word after."
   ]
  },
  {
   "cell_type": "code",
   "execution_count": 44,
   "metadata": {},
   "outputs": [],
   "source": [
    "# Justification for the inclusion of Previous and Next Tag:\n",
    "# This choice of features was inspired from the HMM Model where the Hidden States are the Tags\n",
    "# And the transitions occur between the Tags (i.e. the Hidden States)"
   ]
  },
  {
   "cell_type": "code",
   "execution_count": 45,
   "metadata": {},
   "outputs": [],
   "source": [
    "# Justification for the inclusion of Prefix and Suffix Features"
   ]
  },
  {
   "cell_type": "code",
   "execution_count": 46,
   "metadata": {},
   "outputs": [],
   "source": [
    "# the 2-letter suffix is a great indicator of past-tense verbs, ending in “-ed”.\n",
    "# the 3-letter suffix helps recognize the present participle ending in “-ing”.\n",
    "# Such Similar Patterns exist in prefix too"
   ]
  },
  {
   "cell_type": "code",
   "execution_count": 47,
   "metadata": {},
   "outputs": [
    {
     "data": {
      "text/plain": [
       "<matplotlib.axes._subplots.AxesSubplot at 0x7faa8132b898>"
      ]
     },
     "execution_count": 47,
     "metadata": {},
     "output_type": "execute_result"
    },
    {
     "data": {
      "image/png": "[encoded data removed]",
      "text/plain": [
       "<Figure size 432x288 with 1 Axes>"
      ]
     },
     "metadata": {},
     "output_type": "display_data"
    }
   ],
   "source": [
    "# Justification for suffix parameter\n",
    "\n",
    "l=[]\n",
    "for sent in corpus:\n",
    "    for i in sent:\n",
    "        l.append(i[0][-3:-1])\n",
    "        \n",
    "df=pd.DataFrame({'col':l})\n",
    "fig, ax = plt.subplots()\n",
    "df['col'].value_counts().plot(ax=ax, kind='bar')\n"
   ]
  },
  {
   "cell_type": "code",
   "execution_count": 48,
   "metadata": {},
   "outputs": [],
   "source": [
    "# The Range of the Frequency Values shows how skewed the suffix distribution is"
   ]
  },
  {
   "cell_type": "code",
   "execution_count": 49,
   "metadata": {},
   "outputs": [
    {
     "data": {
      "text/plain": [
       "<matplotlib.axes._subplots.AxesSubplot at 0x7faa81337400>"
      ]
     },
     "execution_count": 49,
     "metadata": {},
     "output_type": "execute_result"
    },
    {
     "data": {
      "image/png": "[encoded data removed]",
      "text/plain": [
       "<Figure size 432x288 with 1 Axes>"
      ]
     },
     "metadata": {},
     "output_type": "display_data"
    }
   ],
   "source": [
    "# Justification for prefix parameter\n",
    "\n",
    "l=[]\n",
    "for sent in corpus:\n",
    "    for i in sent:\n",
    "        l.append(i[0][0:3])\n",
    "\n",
    "df=pd.DataFrame({'col':l})\n",
    "fig, ax = plt.subplots()\n",
    "df['col'].value_counts().plot(ax=ax, kind='bar')\n"
   ]
  },
  {
   "cell_type": "code",
   "execution_count": 50,
   "metadata": {},
   "outputs": [],
   "source": [
    "# The Range of the Frequency Values shows how skewed the prefix distribution is"
   ]
  },
  {
   "cell_type": "code",
   "execution_count": null,
   "metadata": {},
   "outputs": [],
   "source": []
  }
 ],
 "metadata": {
  "kernelspec": {
   "display_name": "Python 3",
   "language": "python",
   "name": "python3"
  },
  "language_info": {
   "codemirror_mode": {
    "name": "ipython",
    "version": 3
   },
   "file_extension": ".py",
   "mimetype": "text/x-python",
   "name": "python",
   "nbconvert_exporter": "python",
   "pygments_lexer": "ipython3",
   "version": "3.5.2"
  }
 },
 "nbformat": 4,
 "nbformat_minor": 2
}
